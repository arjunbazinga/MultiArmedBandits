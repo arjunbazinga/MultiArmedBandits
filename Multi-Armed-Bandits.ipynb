{
 "cells": [
  {
   "cell_type": "markdown",
   "metadata": {},
   "source": [
    "# Multi Armed Bandit Problem\n",
    "\n",
    "## Problem Description\n",
    "\n",
    "Imagine you are at a casino, and you have N slot machines to play, each slot machine gives rewards according to a fixed probability distribution. What strategy should you play with to maximise your total reward ?\n",
    "\n",
    "This problem is known as [Multi Armed Bandit](https://en.wikipedia.org/wiki/Multi-armed_bandit) problem."
   ]
  },
  {
   "cell_type": "code",
   "execution_count": 1,
   "metadata": {
    "collapsed": true
   },
   "outputs": [],
   "source": [
    "# Importing numpy for math, and matplotlib for plots\n",
    "import matplotlib.pyplot as plt\n",
    "import numpy as np\n",
    "%matplotlib inline"
   ]
  },
  {
   "cell_type": "markdown",
   "metadata": {},
   "source": [
    "## Arms\n",
    "\n",
    "An arm when pulled, gives a random number from a normal distribution with fixed mean(mu) and deviation(sigma).\n",
    "When pulled many times the frequency of the rewards look like this:\n",
    "\n",
    "![normal distribution](https://upload.wikimedia.org/wikipedia/commons/thumb/7/74/Normal_Distribution_PDF.svg/350px-Normal_Distribution_PDF.svg.png)\n",
    "X axis is the magnitude of reward  \n",
    "Y axis is it's frequency.\n",
    "\n",
    "The Arm class provides an arm with these properties."
   ]
  },
  {
   "cell_type": "code",
   "execution_count": 2,
   "metadata": {},
   "outputs": [],
   "source": [
    "class Arm:\n",
    "\n",
    "    def __init__(self, mu=None, sigma=None):\n",
    "        if mu is None:\n",
    "            self.mu = np.absolute(np.random.uniform())\n",
    "        else:\n",
    "            self.mu = mu\n",
    "        \n",
    "        \n",
    "        if sigma is None:\n",
    "            self.sigma=np.absolute(np.random.uniform())\n",
    "        else:\n",
    "            self.sigma = sigma\n",
    "\n",
    "\n",
    "    def pull(self):\n",
    "        reward = np.random.normal(self.mu, self.sigma, 1)\n",
    "        return reward\n",
    "\n",
    "\n",
    "def get_arms(k):\n",
    "    # returns a list of arms\n",
    "    arms = []\n",
    "    for i in range(k):\n",
    "        arms.append(Arm())\n",
    "    return arms"
   ]
  },
  {
   "cell_type": "markdown",
   "metadata": {},
   "source": [
    "## Agents\n",
    "\n",
    "An agent here is a player who pulls arms to play.\n",
    "It has a policy, which is a list of probabilities associated with each arm.\n",
    "\n",
    "\n",
    "The agent class makes designing agents **fast**. The object is initialised with arms and whether it should play all arms once as part of the initialisation.\n",
    "\n",
    "Features provided by this class:  \n",
    "Attributes:\n",
    "* expectations[i]: gives the expected reward on playing arm[i]\n",
    "* times_played[i]: gives the number of times the agent has played arm[i]\n",
    "* N = Total number of times agent has played\n",
    "* reward_history : list of rewards earned by the agent\n",
    "* choice_history : list of choices made by the agent  \n",
    "\n",
    "Methods:\n",
    "* gamble(i): Plays for i iterations while updating it's policy.\n",
    "* play(i): Pulls arm[i] and updates reward_history, N , times_played\n",
    "* select_arm(): returns index of an arm by sampling  probability distribution given by the policy\n"
   ]
  },
  {
   "cell_type": "code",
   "execution_count": 3,
   "metadata": {
    "collapsed": true
   },
   "outputs": [],
   "source": [
    "class agent:\n",
    "    def __init__(self, arms, play_once=1):\n",
    "        self.expectations = np.zeros(len(arms))\n",
    "        self.times_played = np.zeros(len(arms))\n",
    "        self.arms = arms\n",
    "\n",
    "        self.number_of_arms = len(arms)\n",
    "        self.N = 0\n",
    "\n",
    "        self.reward_history = []\n",
    "        self.choice_history = []\n",
    "\n",
    "        if play_once == 1:\n",
    "            for i in range(self.number_of_arms):\n",
    "                self.expectations[i] = self.play(i)\n",
    "\n",
    "    def play(self, index):\n",
    "        reward = self.arms[index].pull()\n",
    "\n",
    "        self.times_played[index] += 1\n",
    "        self.N += 1\n",
    "\n",
    "        self.choice_history.append(index)\n",
    "        self.reward_history.append(reward)\n",
    "\n",
    "        return reward\n",
    "\n",
    "    def policy(self):\n",
    "        pass\n",
    "\n",
    "    def update_expectations(self, reward, index):\n",
    "        self.expectations[index] += (reward - self.expectations[index])/self.N\n",
    "\n",
    "    def select_arm(self):\n",
    "        options = range(self.number_of_arms)\n",
    "        i = np.random.choice(options, p=self.policy(), replace=False)\n",
    "        return i\n",
    "\n",
    "    def gamble(self, iterations):\n",
    "        for i in range(iterations):\n",
    "            index = self.select_arm()\n",
    "            reward = self.play(index)\n",
    "            self.update_expectations(reward, index)\n"
   ]
  },
  {
   "cell_type": "markdown",
   "metadata": {},
   "source": [
    "### Example agents\n",
    "\n",
    "To make a new agent we [inherit]() the agent class."
   ]
  },
  {
   "cell_type": "markdown",
   "metadata": {},
   "source": [
    "Time to make some agents! \n",
    "\n",
    "### First up: epsilon-greedy\n",
    "\n",
    "This agent plays the arm with the highest expected reward with _1 - epsilon_ probability, and plays a random arm with _epsilon_ probability\n",
    "\n",
    "So  \n",
    "    epsilon = 1 => random choices  \n",
    "    epsilon = 0 => greedy choices \n",
    "    \n",
    "    \n",
    "\n"
   ]
  },
  {
   "cell_type": "code",
   "execution_count": 4,
   "metadata": {},
   "outputs": [],
   "source": [
    "class epsilon_greedy(agent):\n",
    "\n",
    "    def __init__(self, arms, play_once=1, epsilon=0.1):\n",
    "        super().__init__(arms, play_once)\n",
    "        self.epsilon = epsilon\n",
    "        \n",
    "    def __str__(self):\n",
    "        return \"Epsilon-Greedy Agent, epsilon= \"+str(self.epsilon)\n",
    "    \n",
    "    def policy(self):\n",
    "        temp = np.zeros_like(self.expectations)\n",
    "        temp[np.argmax(self.expectations)] = 1-self.epsilon\n",
    "        ans = temp + self.epsilon/self.number_of_arms\n",
    "        return ans"
   ]
  },
  {
   "cell_type": "markdown",
   "metadata": {},
   "source": [
    "### Beta-Softmax\n",
    "\n",
    "This agent plays an arm[i] with probability proportional to: e^(expected_reward(arm[i])/beta)  \n",
    "We normalise the whole thing by the sum over all the arms.\n"
   ]
  },
  {
   "cell_type": "code",
   "execution_count": 5,
   "metadata": {
    "collapsed": true
   },
   "outputs": [],
   "source": [
    "class softmax(agent):\n",
    "\n",
    "    def __init__(self, arms, play_once=1, beta=1):\n",
    "        super().__init__(arms, play_once)\n",
    "        self.beta = beta\n",
    "        \n",
    "    def __str__(self):\n",
    "        return \"Softmax agent, beta= \"+ str(self.beta)\n",
    "\n",
    "    def policy(self):\n",
    "        temp = np.exp(self.expectations/self.beta)\n",
    "        ans = temp / np.sum(temp, axis=0)\n",
    "        return ans"
   ]
  },
  {
   "cell_type": "markdown",
   "metadata": {},
   "source": [
    "### Upper Confidence Bound (UCB1)\n",
    "\n",
    "UCB1 agent plays the arm with the highest metric, where metric of arm i is :\n",
    "metric[i] = expected_reward[i] + sqrt(2*log(N)/times_played[i])\n",
    "\n",
    "__Note__ Best peformance when rewards are between 0 and 1"
   ]
  },
  {
   "cell_type": "code",
   "execution_count": 6,
   "metadata": {
    "collapsed": true
   },
   "outputs": [],
   "source": [
    "class ucb(agent):\n",
    "\n",
    "    def __init__(self, arms, play_once=1):\n",
    "        super().__init__(arms, play_once)\n",
    "\n",
    "    def __str__(self):\n",
    "        return \"UCB1 agent\"\n",
    "    \n",
    "    def policy(self):\n",
    "        temp = self.expectations + np.sqrt(2*np.log(self.N)/self.times_played)\n",
    "        ans = np.zeros_like(temp)\n",
    "        ans[np.argmax(temp)] = 1\n",
    "        return ans"
   ]
  },
  {
   "cell_type": "markdown",
   "metadata": {},
   "source": [
    "## Metrics\n",
    "\n",
    "Metric : A scalar number, makes comparison easier.  \n",
    "To compare the performance of our agents we can use these metrics\n",
    "\n",
    "* avg_reward[i] : this gives the average reward till i+1  iteration.\n",
    "* max_reward : this tells us the maximum expected reward\n",
    "\n",
    "* euclid_distance : we can think of as learnt policy and optimal policy as vectors and compute the distance between them , smaller is better \n",
    "* cosine_simmilarity : compute the cos(q) between the policies. larger is better"
   ]
  },
  {
   "cell_type": "code",
   "execution_count": 7,
   "metadata": {
    "collapsed": true
   },
   "outputs": [],
   "source": [
    "def maxreward(arms):\n",
    "    #Max rewards\n",
    "    a= [arm.mu for arm in arms]\n",
    "    return max(a)\n",
    "\n",
    "def avg_reward(rewards):\n",
    "    ans = []\n",
    "    ans.append(rewards[0])\n",
    "    for i in range(1,len(rewards)):\n",
    "        ans.append(ans[i-1]+rewards[i])\n",
    "    for i in range(len(ans)):\n",
    "        ans[i]/=i+1\n",
    "    return ans\n",
    "\n",
    "def cosine_similarity(a,b):\n",
    "    temp = a*b\n",
    "    temp/=(euclid_distance(a)* euclid_distance(b))\n",
    "    return np.sum(temp, axis=0)\n",
    "    \n",
    "def euclid_distance(a):\n",
    "    return np.sqrt(np.sum(a*a, axis=0))"
   ]
  },
  {
   "cell_type": "markdown",
   "metadata": {},
   "source": [
    "### Test\n",
    "\n",
    "This function takes a list of agents and the number of iterations. Makes each agent play, and prints its metrics."
   ]
  },
  {
   "cell_type": "code",
   "execution_count": 8,
   "metadata": {},
   "outputs": [],
   "source": [
    "def test(agents, iterations):\n",
    "    for agent in agents:\n",
    "        \n",
    "        agent.gamble(iterations)\n",
    "        \n",
    "        temp = [ arm.mu for arm in levers] \n",
    "        optimal_policy = np.zeros_like(agent.expectations)\n",
    "        optimal_policy[temp.index(max(temp))] = 1\n",
    "        \n",
    "        avg_rewards_earned = avg_reward(agent.reward_history)\n",
    "        \n",
    "        print(agent)\n",
    "        print(\"maximum possible reward:\", maxreward(levers))\n",
    "        print(\"average reward:\", avg_rewards_earned[-1])\n",
    "        print(\"cosine similarity\" ,cosine_similarity(agent.policy(), optimal_policy))\n",
    "        euclid_norm = euclid_distance(agent.policy()-optimal_policy)/len(optimal_policy)\n",
    "        print(\"euclidian norm \",euclid_norm)\n",
    "        \n",
    "        \n",
    "        plt.plot(avg_rewards_earned)\n",
    "        plt.ylabel('Average Reward')\n",
    "        plt.xlabel('Iteration')\n",
    "        plt.show()\n",
    "        print(\"\\n\")\n",
    "    \n",
    "        # print(\"optimal policy:\" , optimal)\n",
    "        # print(\"learnt policy:\" ,agent.policy())\n",
    "        \n",
    "    \n",
    "        \n",
    "        # plt.scatter(range(len(agent.choice_history)),y=agent.choice_history)\n",
    "        # plt.title(\"Choices\")\n",
    "        # plt.xlabel(\"time\")\n",
    "        # plt.ylabel(\"arm\")\n",
    "        # plt.show()\n",
    "        # print(\"\\n\")\n",
    "    \n",
    "    "
   ]
  },
  {
   "cell_type": "code",
   "execution_count": 9,
   "metadata": {},
   "outputs": [],
   "source": [
    "levers = get_arms(10)\n",
    "\n",
    "agents = [\n",
    "    epsilon_greedy(levers, epsilon=1),\n",
    "    epsilon_greedy(levers, epsilon=0),\n",
    "    softmax(levers, beta=0.1),\n",
    "    ucb(levers)\n",
    "\n",
    "]\n"
   ]
  },
  {
   "cell_type": "code",
   "execution_count": 10,
   "metadata": {},
   "outputs": [
    {
     "data": {
      "text/plain": [
       "Text(0.5,1,'distribution of expected value of arms')"
      ]
     },
     "execution_count": 10,
     "metadata": {},
     "output_type": "execute_result"
    },
    {
     "data": {
      "image/png": "[encoded data removed]",
      "text/plain": [
       "<Figure size 432x288 with 1 Axes>"
      ]
     },
     "metadata": {},
     "output_type": "display_data"
    }
   ],
   "source": [
    "plt.plot([ arm.mu for arm in levers] )\n",
    "plt.title(\"distribution of expected value of arms\")"
   ]
  },
  {
   "cell_type": "code",
   "execution_count": 11,
   "metadata": {
    "scrolled": false
   },
   "outputs": [
    {
     "name": "stdout",
     "output_type": "stream",
     "text": [
      "Epsilon-Greedy Agent, epsilon= 1\n",
      "maximum possible reward: 0.9875803648377603\n",
      "average reward: [0.477258]\n",
      "cosine similarity 0.3162277660168379\n",
      "euclidian norm  0.09486832980505139\n"
     ]
    },
    {
     "data": {
      "image/png": "[encoded data removed]",
      "text/plain": [
       "<Figure size 432x288 with 1 Axes>"
      ]
     },
     "metadata": {},
     "output_type": "display_data"
    },
    {
     "name": "stdout",
     "output_type": "stream",
     "text": [
      "\n",
      "\n",
      "Epsilon-Greedy Agent, epsilon= 0\n",
      "maximum possible reward: 0.9875803648377603\n",
      "average reward: [0.89626864]\n",
      "cosine similarity 0.0\n",
      "euclidian norm  0.1414213562373095\n"
     ]
    },
    {
     "data": {
      "image/png": "[encoded data removed]",
      "text/plain": [
       "<Figure size 432x288 with 1 Axes>"
      ]
     },
     "metadata": {},
     "output_type": "display_data"
    },
    {
     "name": "stdout",
     "output_type": "stream",
     "text": [
      "\n",
      "\n",
      "Softmax agent, beta= 0.1\n",
      "maximum possible reward: 0.9875803648377603\n",
      "average reward: [0.89066404]\n",
      "cosine similarity 0.9850149331951742\n",
      "euclidian norm  0.027397006102730444\n"
     ]
    },
    {
     "data": {
      "image/png": "[encoded data removed]",
      "text/plain": [
       "<Figure size 432x288 with 1 Axes>"
      ]
     },
     "metadata": {},
     "output_type": "display_data"
    },
    {
     "name": "stdout",
     "output_type": "stream",
     "text": [
      "\n",
      "\n",
      "UCB1 agent\n",
      "maximum possible reward: 0.9875803648377603\n",
      "average reward: [0.93776872]\n",
      "cosine similarity 1.0\n",
      "euclidian norm  0.0\n"
     ]
    },
    {
     "data": {
      "image/png": "[encoded data removed]",
      "text/plain": [
       "<Figure size 432x288 with 1 Axes>"
      ]
     },
     "metadata": {},
     "output_type": "display_data"
    },
    {
     "name": "stdout",
     "output_type": "stream",
     "text": [
      "\n",
      "\n"
     ]
    }
   ],
   "source": [
    "test(agents, 5000)"
   ]
  },
  {
   "cell_type": "markdown",
   "metadata": {},
   "source": [
    "\n",
    "### Experimental stuff:\n",
    "\n",
    "Below are a few agents I wrote for fun."
   ]
  },
  {
   "cell_type": "code",
   "execution_count": 12,
   "metadata": {
    "collapsed": true
   },
   "outputs": [],
   "source": [
    "\n",
    "class softmax_with_exponentiation(agent):\n",
    "\n",
    "    def __init__(self, arms, play_once=1, beta=1, exp=1):\n",
    "        super().__init__(arms, play_once)\n",
    "        self.beta = beta\n",
    "        self.exp = exp\n",
    "\n",
    "    def policy(self):\n",
    "        temp = np.exp(self.expectations/self.beta)\n",
    "        ans = temp / np.sum(temp, axis=0)\n",
    "        ans = ans**self.exp\n",
    "        ans /= np.sum(ans, axis=0)\n",
    "        return ans\n",
    "\n",
    "\n",
    "class softmax_with_reccurence(agent):\n",
    "\n",
    "    def __init__(self, arms, play_once=1, beta=1):\n",
    "        super().__init__(arms, play_once)\n",
    "        self.old_policy = np.ones_like(self.expectations)/self.l\n",
    "        self.beta = beta\n",
    "\n",
    "    def policy(self):\n",
    "        temp = np.exp(self.expectations/self.beta)\n",
    "        new_policy = temp / np.sum(temp, axis=0)\n",
    "\n",
    "        result = np.multiply(new_policy, self.old_policy)\n",
    "        result /= np.sum(result, axis=0)\n",
    "        self.old_policy = result\n",
    "\n",
    "        return result\n",
    "\n",
    "\n",
    "class greedy_with_reccurence(agent):\n",
    "    # alpha = number < 1; will sum over a number of observations and will keep\n",
    "    # osiclating.\n",
    "    # alpha = N will allow the algo to converge to an arm, greedy doesn't\n",
    "    # really need this, kind of always give one answer.\n",
    "\n",
    "    def __init__(self, arms, play_once=1, alpha=1):\n",
    "        super().__init__(arms, play_once)\n",
    "        self.old_policy = np.ones_like(self.expectations)\n",
    "        self.alpha = alpha\n",
    "\n",
    "    def policy(self):\n",
    "        new_policy = np.zeros_like(self.expectations)\n",
    "        new_policy[np.argmax(self.expectations)] = 1\n",
    "\n",
    "        new_policy = (1-self.alpha)*new_policy + self.alpha*self.old_policy\n",
    "\n",
    "        new_policy /= np.sum(new_policy, axis=0)\n",
    "        self.old_policy = new_policy\n",
    "\n",
    "        return new_policy\n",
    "\n",
    "# class magic(agent):\n",
    "#    def __init__(self, arms, play_once=1, exp=1):\n",
    "#        super().__init__(arms, play_once)\n",
    "#        self.old_policy = np.ones_like(self.expectations)/self.l\n",
    "#        self.exp = exp\n",
    "#\n",
    "#    def policy(self):\n",
    "#        new_policy = f(old_policy, g(expectations))\n"
   ]
  },
  {
   "cell_type": "code",
   "execution_count": null,
   "metadata": {},
   "outputs": [],
   "source": []
  },
  {
   "cell_type": "code",
   "execution_count": 17,
   "metadata": {},
   "outputs": [],
   "source": [
    "arms = [Arm(mu=i,sigma=0) for i in range(4)]"
   ]
  },
  {
   "cell_type": "code",
   "execution_count": 22,
   "metadata": {},
   "outputs": [
    {
     "data": {
      "text/plain": [
       "array([3.])"
      ]
     },
     "execution_count": 22,
     "metadata": {},
     "output_type": "execute_result"
    }
   ],
   "source": [
    "arms[3].pull()"
   ]
  },
  {
   "cell_type": "code",
   "execution_count": 28,
   "metadata": {},
   "outputs": [],
   "source": [
    "class state:\n",
    "    def __init__(self, name):\n",
    "        self.name = name\n",
    "        \n",
    "    def __repr___(self):\n",
    "        return f\"state(\\\"{self.name}\\\")\"\n",
    "    \n",
    "    def __str__(self):\n",
    "        return self.__repr__()"
   ]
  },
  {
   "cell_type": "code",
   "execution_count": 34,
   "metadata": {},
   "outputs": [],
   "source": [
    "import numpy as np"
   ]
  },
  {
   "cell_type": "code",
   "execution_count": 44,
   "metadata": {},
   "outputs": [],
   "source": [
    "t = np.abs(np.random.randn(3,3))"
   ]
  },
  {
   "cell_type": "code",
   "execution_count": 45,
   "metadata": {},
   "outputs": [],
   "source": [
    "t /= t.sum(axis=0, keepdims=True)"
   ]
  },
  {
   "cell_type": "code",
   "execution_count": 46,
   "metadata": {},
   "outputs": [
    {
     "data": {
      "text/plain": [
       "array([[1., 1., 1.]])"
      ]
     },
     "execution_count": 46,
     "metadata": {},
     "output_type": "execute_result"
    }
   ],
   "source": [
    "t.sum(axis=0, keepdims=True)"
   ]
  },
  {
   "cell_type": "code",
   "execution_count": 47,
   "metadata": {},
   "outputs": [
    {
     "data": {
      "text/plain": [
       "array([[0.35690573, 0.4321061 , 0.06322358],\n",
       "       [0.61329573, 0.4507365 , 0.41143156],\n",
       "       [0.02979853, 0.11715741, 0.52534486]])"
      ]
     },
     "execution_count": 47,
     "metadata": {},
     "output_type": "execute_result"
    }
   ],
   "source": [
    "t"
   ]
  },
  {
   "cell_type": "code",
   "execution_count": 50,
   "metadata": {},
   "outputs": [],
   "source": [
    "s = "
   ]
  },
  {
   "cell_type": "code",
   "execution_count": 51,
   "metadata": {},
   "outputs": [
    {
     "data": {
      "text/plain": [
       "array([[0],\n",
       "       [1],\n",
       "       [0]])"
      ]
     },
     "execution_count": 51,
     "metadata": {},
     "output_type": "execute_result"
    }
   ],
   "source": [
    "s"
   ]
  },
  {
   "cell_type": "code",
   "execution_count": 53,
   "metadata": {},
   "outputs": [],
   "source": [
    "l = t.dot(s)"
   ]
  },
  {
   "cell_type": "code",
   "execution_count": 62,
   "metadata": {},
   "outputs": [],
   "source": [
    "n = 10000\n",
    "l = s\n",
    "ls = []"
   ]
  },
  {
   "cell_type": "code",
   "execution_count": 63,
   "metadata": {},
   "outputs": [],
   "source": [
    "for i in range(n):\n",
    "    l = t.dot(l)\n",
    "    ls.append(l)"
   ]
  },
  {
   "cell_type": "code",
   "execution_count": 64,
   "metadata": {},
   "outputs": [
    {
     "data": {
      "text/plain": [
       "0.9999999999999996"
      ]
     },
     "execution_count": 64,
     "metadata": {},
     "output_type": "execute_result"
    }
   ],
   "source": []
  },
  {
   "cell_type": "code",
   "execution_count": 113,
   "metadata": {},
   "outputs": [],
   "source": []
  },
  {
   "cell_type": "code",
   "execution_count": 114,
   "metadata": {},
   "outputs": [],
   "source": [
    "n = 50\n",
    "\n",
    "states = []"
   ]
  },
  {
   "cell_type": "code",
   "execution_count": 115,
   "metadata": {},
   "outputs": [
    {
     "data": {
      "text/plain": [
       "array([[0],\n",
       "       [0],\n",
       "       [1]])"
      ]
     },
     "execution_count": 115,
     "metadata": {},
     "output_type": "execute_result"
    }
   ],
   "source": [
    "l"
   ]
  },
  {
   "cell_type": "code",
   "execution_count": null,
   "metadata": {},
   "outputs": [],
   "source": []
  },
  {
   "cell_type": "code",
   "execution_count": 116,
   "metadata": {},
   "outputs": [],
   "source": [
    "for i in range(n):\n",
    "    p = t.dot(s)\n",
    "    l = np.random.choice(p.shape[0],1,p=p.squeeze())\n",
    "    s = np.zeros_like(s)\n",
    "    s[l] = 1\n",
    "    states.append(s)"
   ]
  },
  {
   "cell_type": "code",
   "execution_count": 121,
   "metadata": {},
   "outputs": [
    {
     "data": {
      "text/plain": [
       "[<matplotlib.lines.Line2D at 0x7f2ede6ea588>]"
      ]
     },
     "execution_count": 121,
     "metadata": {},
     "output_type": "execute_result"
    },
    {
     "data": {
      "image/png": "[encoded data removed]",
      "text/plain": [
       "<Figure size 432x288 with 1 Axes>"
      ]
     },
     "metadata": {},
     "output_type": "display_data"
    }
   ],
   "source": [
    "plt.plot([np.argmax(i) for i in states])"
   ]
  },
  {
   "cell_type": "code",
   "execution_count": 145,
   "metadata": {},
   "outputs": [],
   "source": [
    "class hard_generator:\n",
    "    \"\"\"A hard generator, which is stochastic but the underlying transition probabilities are stationary\"\"\"\n",
    "    def __init__(self, init, t):\n",
    "        self.t = t\n",
    "        self.init = init\n",
    "        self.current = init\n",
    "        \n",
    "    def __reset__(self):\n",
    "        self.current = self.init\n",
    "        \n",
    "    def step(self):\n",
    "        p = self.t.dot(self.current)\n",
    "     \n",
    "        self.current = np.zeros_like(self.current)\n",
    "        self.current[l] = 1\n",
    "        return l"
   ]
  },
  {
   "cell_type": "code",
   "execution_count": 146,
   "metadata": {},
   "outputs": [],
   "source": [
    "class easy_generator:\n",
    "    \"\"\"A deterministic stationary generator\"\"\"\n",
    "    def __init__(self, init, t):\n",
    "        self.t = t\n",
    "        self.init = init\n",
    "        self.current = init\n",
    "        \n",
    "    def __reset__(self):\n",
    "        self.current = self.init\n",
    "        \n",
    "    def step(self):\n",
    "        p = self.t.dot(self.current)\n",
    "        l = np.random.choice(p.shape[0], 1 , p = p.squeeze())\n",
    "        self.current = np.zeros_like(self.current)\n",
    "        self.current[l] = 1\n",
    "        return l"
   ]
  },
  {
   "cell_type": "code",
   "execution_count": 123,
   "metadata": {},
   "outputs": [],
   "source": [
    "t = np.array([[0,1,0],\n",
    "             [0,0,1],\n",
    "             [1,0,0]])\n",
    "init = np.array([[0,1,0]]).T\n",
    "\n",
    "gen = generator(init, t)"
   ]
  },
  {
   "cell_type": "code",
   "execution_count": 144,
   "metadata": {},
   "outputs": [
    {
     "data": {
      "text/plain": [
       "array([[0, 1, 0],\n",
       "       [0, 0, 1],\n",
       "       [1, 0, 0]])"
      ]
     },
     "execution_count": 144,
     "metadata": {},
     "output_type": "execute_result"
    }
   ],
   "source": [
    "class learner:\n",
    "    def __init__(self, init, t):\n",
    "        self.t = t\n",
    "        self.init = init\n",
    "        self.current = init\n",
    "    \n",
    "    def __reset__(self):\n",
    "        self.current = self.init\n",
    "        \n",
    "    def step(self):\n",
    "        \n",
    "        return l"
   ]
  },
  {
   "cell_type": "code",
   "execution_count": null,
   "metadata": {},
   "outputs": [],
   "source": []
  }
 ],
 "metadata": {
  "kernelspec": {
   "display_name": "Python 3",
   "language": "python",
   "name": "python3"
  },
  "language_info": {
   "codemirror_mode": {
    "name": "ipython",
    "version": 3
   },
   "file_extension": ".py",
   "mimetype": "text/x-python",
   "name": "python",
   "nbconvert_exporter": "python",
   "pygments_lexer": "ipython3",
   "version": "3.6.3"
  }
 },
 "nbformat": 4,
 "nbformat_minor": 2
}
